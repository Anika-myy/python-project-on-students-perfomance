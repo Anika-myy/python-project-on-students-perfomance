{
  "nbformat": 4,
  "nbformat_minor": 0,
  "metadata": {
    "colab": {
      "provenance": []
    },
    "kernelspec": {
      "name": "python3",
      "display_name": "Python 3"
    },
    "language_info": {
      "name": "python"
    }
  },
  "cells": [
    {
      "cell_type": "code",
      "source": [
        "#1\n",
        "import csv\n",
        "\n",
        "fieldnames = ['ID', 'Name', 'Math', 'English', 'Science', 'Grade']\n",
        "\n",
        "student_data = [\n",
        "    [1, 'Alice', 95, 88, 92, ''],\n",
        "    [2, 'Bob', 82, 75, 78, ''],\n",
        "    # ... more students\n",
        "]\n",
        "\n",
        "with open('students.csv', 'w', newline='') as file:\n",
        "    writer = csv.writer(file)\n",
        "    writer.writerow(fieldnames)\n",
        "    writer.writerows(student_data)\n",
        "#load\n",
        "import pandas as pd\n",
        "\n",
        "df = pd.read_csv('students.csv')"
      ],
      "metadata": {
        "id": "_wCGaDmb0kMd"
      },
      "execution_count": 12,
      "outputs": []
    },
    {
      "cell_type": "code",
      "source": [
        "# 2. Student Record Management\n",
        "def add_student(df, id, name, math, english, science):\n",
        "    new_student = pd.DataFrame([[id, name, math, english, science, '']], columns=df.columns)\n",
        "    df = pd.concat([df, new_student], ignore_index=True)\n",
        "    return df\n",
        "\n",
        "def update_marks(df, id, subject, new_marks):\n",
        "    df.loc[df['ID'] == id, subject] = new_marks\n",
        "    return df\n",
        "\n",
        "def remove_student(df, id):\n",
        "    df = df.drop(df[df['ID'] == id].index)\n",
        "    return df"
      ],
      "metadata": {
        "id": "koV19sil0kO6"
      },
      "execution_count": 14,
      "outputs": []
    },
    {
      "cell_type": "code",
      "source": [
        "# 3. Grade Calculation\n",
        "def calculate_grade(marks):\n",
        "    if marks >= 90:\n",
        "        return 'A'\n",
        "    elif marks >= 80:\n",
        "        return 'B'\n",
        "    elif marks >= 70:\n",
        "        return 'C'\n",
        "    else:\n",
        "        return 'F'\n",
        "\n",
        "def assign_grades(df):\n",
        "    df['Grade'] = df[['Math', 'English', 'Science']].mean(axis=1).apply(calculate_grade)\n",
        "    return df\n"
      ],
      "metadata": {
        "id": "DBG5wr3C4b1B"
      },
      "execution_count": 15,
      "outputs": []
    },
    {
      "cell_type": "code",
      "source": [
        "# 4. Class Performance Analysis\n",
        "def analyze_performance(df):\n",
        "    average_marks = df[['Math', 'English', 'Science']].mean()\n",
        "    top_scorer = df.loc[df['Math'].idxmax()]\n",
        "    bottom_scorer = df.loc[df['Math'].idxmin()]\n",
        "    pass_percentage = (df['Grade'] != 'F').mean() * 100\n",
        "    return average_marks, top_scorer, bottom_scorer, pass_percentage"
      ],
      "metadata": {
        "id": "BU1oyKnK4b32"
      },
      "execution_count": 16,
      "outputs": []
    },
    {
      "cell_type": "code",
      "source": [
        "# 5. Visualizing Data\n",
        "def visualize_data(df):\n",
        "    df.plot(x='Name', y=['Math', 'English', 'Science'], kind='bar')\n",
        "    plt.title('Student Performance')\n",
        "    plt.xlabel('Student Name')\n",
        "    plt.ylabel('Marks')\n",
        "    plt.show()\n"
      ],
      "metadata": {
        "id": "xCylhjqa4b7P"
      },
      "execution_count": 18,
      "outputs": []
    },
    {
      "cell_type": "code",
      "source": [
        "#6\n",
        "def search_student(df, search_term):\n",
        "    results = df[df['ID'].astype(str).str.contains(search_term) | df['Name'].str.contains(search_term)]\n",
        "    return results\n",
        "\n",
        "def filter_by_grade(df, grade):\n",
        "    results = df[df['Grade'] == grade]\n",
        "    return results\n",
        "\n",
        "def show_failed_students(df):\n",
        "    failed_students = df[df['Grade'] == 'F']\n",
        "    return failed_students"
      ],
      "metadata": {
        "id": "I7agk5oV4wtJ"
      },
      "execution_count": null,
      "outputs": []
    },
    {
      "cell_type": "code",
      "source": [
        "def save_to_csv(df, filename):\n",
        "    df.to_csv(filename, index=False)\n",
        "\n",
        "def export_filtered_data(df, grade, filename):\n",
        "    filtered_df = filter_by_grade(df, grade)\n",
        "    save_to_csv(filtered_df, filename)"
      ],
      "metadata": {
        "id": "Mn32wBHN4w0x"
      },
      "execution_count": 20,
      "outputs": []
    },
    {
      "cell_type": "code",
      "source": [
        "import re\n",
        "def add_student(df, id, name, math, english, science):\n",
        "    try:\n",
        "        # Convert marks to integers\n",
        "        math = int(math)\n",
        "        english = int(english)\n",
        "        science = int(science)\n",
        "\n",
        "        # Validate ID format (e.g., ST-001)\n",
        "        if not re.match(r'^ST-\\d{3}$', id):\n",
        "            raise ValueError(\"Invalid student ID format. Please enter an ID in the format 'ST-XXX'.\")\n",
        "        new_student = pd.DataFrame([[id, name, math, english, science, '']], columns=df.columns)\n",
        "        df = pd.concat([df, new_student], ignore_index=True)\n",
        "        print(\"Student added successfully!\")\n",
        "        return df\n",
        "    except ValueError as e:\n",
        "        print(\"Error:\", e)\n",
        "        return df\n",
        "\n"
      ],
      "metadata": {
        "id": "iCUw_n6b4w4O"
      },
      "execution_count": 46,
      "outputs": []
    },
    {
      "cell_type": "code",
      "source": [
        "def main():\n",
        "    df = initialize_data()\n",
        "\n",
        "    while True:\n",
        "        print(\"\\nStudent Grading System\")\n",
        "        print(\"1. Add Student\")\n",
        "        print(\"2. Update Student\")\n",
        "        print(\"3. Delete Student\")\n",
        "        print(\"4. View Class Performance\")\n",
        "        print(\"5. Visualize Data\")\n",
        "        print(\"6. Search and Filter\")\n",
        "        print(\"7. Save Data\")\n",
        "        print(\"8. Exit\")\n",
        "\n",
        "        choice = input(\"Enter your choice: \")\n",
        "\n",
        "        if choice == '1':\n",
        "            id = input(\"Enter student ID: \")\n",
        "            name = input(\"Enter student name: \")\n",
        "            math = input(\"Enter Math marks: \")\n",
        "            english = input(\"Enter English marks: \")\n",
        "            science = input(\"Enter Science marks: \")\n",
        "            add_student(df, id, name, math, english, science)\n",
        "        elif choice == '2':\n",
        "            id = input(\"Enter student ID to update: \")\n",
        "            name = input(\"Enter new name (or press Enter to keep the same): \")\n",
        "            math = input(\"Enter new Math marks (or press Enter to keep the same): \")\n",
        "            english = input(\"Enter new English marks (or press Enter to keep the same): \")\n",
        "            science = input(\"Enter new Science marks (or press Enter to keep the same): \")\n",
        "            if name:\n",
        "                df = update_student(df, id, name, math, english, science)\n",
        "            else:\n",
        "                df = update_marks(df, id, 'Math', math)\n",
        "                df = update_marks(df, id, 'English', english)\n",
        "                df = update_marks(df, id, 'Science', science)\n",
        "        elif choice == '3':\n",
        "            id = input(\"Enter student ID to delete: \")\n",
        "            df = remove_student(df, id)\n",
        "        elif choice == '4':\n",
        "            average_marks, top_scorer, bottom_scorer, pass_percentage = analyze_performance(df)\n",
        "            print(\"Average Marks:\", average_marks)\n",
        "            print(\"Top Scorer:\", top_scorer)\n",
        "            print(\"Bottom Scorer:\", bottom_scorer)\n",
        "            print(\"Pass Percentage:\", pass_percentage)\n",
        "        elif choice == '5':\n",
        "            visualize_data(df)\n",
        "        elif choice == '6':\n",
        "            search_term = input(\"Enter student ID or name to search: \")\n",
        "            results = search_student(df, search_term)\n",
        "            print(results)\n",
        "        elif choice == '7':\n",
        "            filename = input(\"Enter filename to save: \")\n",
        "            save_to_csv(df, filename)\n",
        "        elif choice == '8':\n",
        "            break\n",
        "        else:\n",
        "            print(\"Invalid choice. Please try again.\")\n",
        "\n",
        "if __name__ == '__main__':\n",
        "    main()\n"
      ],
      "metadata": {
        "colab": {
          "base_uri": "https://localhost:8080/"
        },
        "id": "V2YhoL7I5A5K",
        "outputId": "cdc3e07b-7315-4f5b-f466-65333bf3ade4"
      },
      "execution_count": null,
      "outputs": [
        {
          "output_type": "stream",
          "name": "stdout",
          "text": [
            "\n",
            "Student Grading System\n",
            "1. Add Student\n",
            "2. Update Student\n",
            "3. Delete Student\n",
            "4. View Class Performance\n",
            "5. Visualize Data\n",
            "6. Search and Filter\n",
            "7. Save Data\n",
            "8. Exit\n",
            "Enter your choice: 1\n",
            "Enter student ID: ST-006\n",
            "Enter student name: Anik\n",
            "Enter Math marks: 55\n",
            "Enter English marks: 66\n",
            "Enter Science marks: 77\n",
            "Student added successfully!\n",
            "\n",
            "Student Grading System\n",
            "1. Add Student\n",
            "2. Update Student\n",
            "3. Delete Student\n",
            "4. View Class Performance\n",
            "5. Visualize Data\n",
            "6. Search and Filter\n",
            "7. Save Data\n",
            "8. Exit\n"
          ]
        }
      ]
    }
  ]
}