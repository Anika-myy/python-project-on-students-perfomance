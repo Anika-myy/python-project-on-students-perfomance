{
  "nbformat": 4,
  "nbformat_minor": 0,
  "metadata": {
    "colab": {
      "provenance": []
    },
    "kernelspec": {
      "name": "python3",
      "display_name": "Python 3"
    },
    "language_info": {
      "name": "python"
    }
  },
  "cells": [
    {
      "cell_type": "code",
      "source": [
        "#1\n",
        "import csv\n",
        "\n",
        "fieldnames = ['ID', 'Name', 'Math', 'English', 'Science', 'Grade']\n",
        "\n",
        "student_data = [\n",
        "    [1, 'Alice', 95, 88, 92, ''],\n",
        "    [2, 'Bob', 82, 75, 78, ''],\n",
        "    # ... more students\n",
        "]\n",
        "\n",
        "with open('students.csv', 'w', newline='') as file:\n",
        "    writer = csv.writer(file)\n",
        "    writer.writerow(fieldnames)\n",
        "    writer.writerows(student_data)\n",
        "#load\n",
        "import pandas as pd\n",
        "\n",
        "df = pd.read_csv('students.csv')"
      ],
      "metadata": {
        "id": "_wCGaDmb0kMd"
      },
      "execution_count": 12,
      "outputs": []
    },
    {
      "cell_type": "code",
      "source": [
        "# 2. Student Record Management\n",
        "def add_student(df, id, name, math, english, science):\n",
        "    new_student = pd.DataFrame([[id, name, math, english, science, '']], columns=df.columns)\n",
        "    df = pd.concat([df, new_student], ignore_index=True)\n",
        "    return df\n",
        "def update_student(df, id, subject, new_marks):\n",
        "    
        "    if subject == 'Name':\n",
        "        df.loc[df['ID'] == id, 'Name'] = new_marks  # Update name\n",
        "    elif subject == 'Math':\n",
        "        df.loc[df['ID'] == id, 'Math'] = int(new_marks) # Update Math\n",
        "    elif subject == 'English':\n",
        "        df.loc[df['ID'] == id, 'English'] = int(new_marks) # Update English\n",
        "    elif subject == 'Science':\n",
        "        df.loc[df['ID'] == id, 'Science'] = int(new_marks)  # Update Science\n",
        "    return df\n",
        "\n",
        "\n",
        "def remove_student(df, id):\n",
        "    df = df.drop(df[df['ID'] == id].index)\n",
        "    return df"
      ],
      "metadata": {
        "id": "koV19sil0kO6"
      },
      "execution_count": 56,
      "outputs": []
    },
    {
      "cell_type": "code",
      "source": [
        "# 3. Grade Calculation\n",
        "def calculate_grade(marks):\n",
        "    if marks >= 90:\n",
        "        return 'A'\n",
        "    elif marks >= 80:\n",
        "        return 'B'\n",
        "    elif marks >= 70:\n",
        "        return 'C'\n",
        "    else:\n",
        "        return 'F'\n",
        "\n",
        "def assign_grades(df):\n",
        "    df['Grade'] = df[['Math', 'English', 'Science']].mean(axis=1).apply(calculate_grade)\n",
        "    return df\n"
      ],
      "metadata": {
        "id": "DBG5wr3C4b1B"
      },
      "execution_count": 15,
      "outputs": []
    },
    {
      "cell_type": "code",
      "source": [
        "# 4. Class Performance Analysis\n",
        "def analyze_performance(df):\n",
        "    average_marks = df[['Math', 'English', 'Science']].mean()\n",
        "    top_scorer = df.loc[df['Math'].idxmax()]\n",
        "    bottom_scorer = df.loc[df['Math'].idxmin()]\n",
        "    pass_percentage = (df['Grade'] != 'F').mean() * 100\n",
        "    return average_marks, top_scorer, bottom_scorer, pass_percentage"
      ],
      "metadata": {
        "id": "BU1oyKnK4b32"
      },
      "execution_count": 16,
      "outputs": []
    },
    {
      "cell_type": "code",
      "source": [
        "# 5. Visualizing Data\n",
        "def visualize_data(df):\n",
        "    df.plot(x='Name', y=['Math', 'English', 'Science'], kind='bar')\n",
        "    plt.title('Student Performance')\n",
        "    plt.xlabel('Student Name')\n",
        "    plt.ylabel('Marks')\n",
        "    plt.show()\n"
      ],
      "metadata": {
        "id": "xCylhjqa4b7P"
      },
      "execution_count": 18,
      "outputs": []
    },
    {
      "cell_type": "code",
      "source": [
        "#6\n",
        "def search_student(df, search_term):\n",
        "    results = df[df['ID'].astype(str).str.contains(search_term) | df['Name'].str.contains(search_term)]\n",
        "    return results\n",
        "\n",
        "def filter_by_grade(df, grade):\n",
        "    results = df[df['Grade'] == grade]\n",
        "    return results\n",
        "\n",
        "def show_failed_students(df):\n",
        "    failed_students = df[df['Grade'] == 'F']\n",
        "    return failed_students"
      ],
      "metadata": {
        "id": "I7agk5oV4wtJ"
      },
      "execution_count": 48,
      "outputs": []
    },
    {
      "cell_type": "code",
      "source": [
        "def save_to_csv(df, filename):\n",
        "    df.to_csv(filename, index=False)\n",
        "\n",
        "def export_filtered_data(df, grade, filename):\n",
        "    filtered_df = filter_by_grade(df, grade)\n",
        "    save_to_csv(filtered_df, filename)"
      ],
      "metadata": {
        "id": "Mn32wBHN4w0x"
      },
      "execution_count": 20,
      "outputs": []
    },
    {
      "cell_type": "code",
      "source": [
        "import re\n",
        "def add_student(df, id, name, math, english, science):\n",
        "    try:\n",
        "        # Convert marks to integers\n",
        "        math = int(math)\n",
        "        english = int(english)\n",
        "        science = int(science)\n",
        "\n",
        "        # Validate ID format (e.g., ST-001)\n",
        "        if not re.match(r'^ST-\\d{3}$', id):\n",
        "            raise ValueError(\"Invalid student ID format. Please enter an ID in the format 'ST-XXX'.\")\n",
        "        new_student = pd.DataFrame([[id, name, math, english, science, '']], columns=df.columns)\n",
        "        df = pd.concat([df, new_student], ignore_index=True)\n",
        "        print(\"Student added successfully!\")\n",
        "        return df\n",
        "    except ValueError as e:\n",
        "        print(\"Error:\", e)\n",
        "        return df\n",
        "\n"
      ],
      "metadata": {
        "id": "iCUw_n6b4w4O"
      },
      "execution_count": 46,
      "outputs": []
    },
    {
      "cell_type": "code",
      "source": [
        "def main():\n",
        "    df = initialize_data()\n",
        "\n",
        "    while True:\n",
        "        print(\"\\nStudent Grading System\")\n",
        "        print(\"1. Add Student\")\n",
        "        print(\"2. Update Student\")\n",
        "        print(\"3. Delete Student\")\n",
        "        print(\"4. View Class Performance\")\n",
        "        print(\"5. Visualize Data\")\n",
        "        print(\"6. Search and Filter\")\n",
        "        print(\"7. Save Data\")\n",
        "        print(\"8. Exit\")\n",
        "\n",
        "        choice = input(\"Enter your choice: \")\n",
        "\n",
        "        if choice == '1':\n",
        "            id = input(\"Enter student ID: \")\n",
        "            name = input(\"Enter student name: \")\n",
        "            math = input(\"Enter Math marks: \")\n",
        "            english = input(\"Enter English marks: \")\n",
        "            science = input(\"Enter Science marks: \")\n",
        "            add_student(df, id, name, math, english, science)\n",
        "        elif choice == '2':\n",
        "            id = input(\"Enter student ID to update: \")\n",
        "            name = input(\"Enter new name (or press Enter to keep the same): \")\n",
        "            math = input(\"Enter new Math marks (or press Enter to keep the same): \")\n",
        "            english = input(\"Enter new English marks (or press Enter to keep the same): \")\n",
        "            science = input(\"Enter new Science marks (or press Enter to keep the same): \")\n",
        "            if name:\n",
        "              df.loc[df['ID'] == id, 'Name'] = name  # Update name directly\n",
        "            if math:\n",
        "              5df = update_student(df, id, 'Math', math)  # Update Math using update_student\n",
        "            if english:\n",
        "              df = update_student(df, id, 'English', english)  # Update English using update_student\n",
        "            if science:\n",
        "              df = update_student(df, id, 'Science', science)\n",
        "        elif choice == '3':\n",
        "            id = input(\"Enter student ID to delete: \")\n",
        "            df = remove_student(df, id)\n",
        "        elif choice == '4':\n",
        "            average_marks, top_scorer, bottom_scorer, pass_percentage = analyze_performance(df)\n",
        "            print(\"Average Marks:\", average_marks)\n",
        "            print(\"Top Scorer:\", top_scorer)\n",
        "            print(\"Bottom Scorer:\", bottom_scorer)\n",
        "            print(\"Pass Percentage:\", pass_percentage)\n",
        "        elif choice == '5':\n",
        "            visualize_data(df)\n",
        "        elif choice == '6':\n",
        "            search_term = input(\"Enter student ID or name to search: \")\n",
        "            results = search_student(df, search_term)\n",
        "            print(results)\n",
        "        elif choice == '7':\n",
        "            filename = input(\"Enter filename to save: \")\n",
        "            save_to_csv(df, filename)\n",
        "        elif choice == '8':\n",
        "            break\n",
        "        else:\n",
        "            print(\"Invalid choice. Please try again.\")\n",
        "\n",
        "if __name__ == '__main__':\n",
        "    main()\n"
      ],
      "metadata": {
        "colab": {
          "base_uri": "https://localhost:8080/",
          "height": 1000
        },
        "id": "V2YhoL7I5A5K",
        "outputId": "d72a63a4-3930-4f8b-93c9-d8ddbbcc59e9"
      },
      "execution_count": 57,
      "outputs": [
        {
          "name": "stdout",
          "output_type": "stream",
          "text": [
            "\n",
            "Student Grading System\n",
            "1. Add Student\n",
            "2. Update Student\n",
            "3. Delete Student\n",
            "4. View Class Performance\n",
            "5. Visualize Data\n",
            "6. Search and Filter\n",
            "7. Save Data\n",
            "8. Exit\n",
            "Enter your choice: 2\n",
            "Enter student ID to update: ST-001\n",
            "Enter new name (or press Enter to keep the same): AN\n",
            "Enter new Math marks (or press Enter to keep the same): 5\n",
            "Enter new English marks (or press Enter to keep the same): 55\n",
            "Enter new Science marks (or press Enter to keep the same): \n",
            "\n",
            "Student Grading System\n",
            "1. Add Student\n",
            "2. Update Student\n",
            "3. Delete Student\n",
            "4. View Class Performance\n",
            "5. Visualize Data\n",
            "6. Search and Filter\n",
            "7. Save Data\n",
            "8. Exit\n",
            "Enter your choice: 1\n",
            "Enter student ID: ST-006\n",
            "Enter student name: ANIKA\n",
            "Enter Math marks: 55\n",
            "Enter English marks: 66\n",
            "Enter Science marks: 77\n",
            "\n",
            "Student Grading System\n",
            "1. Add Student\n",
            "2. Update Student\n",
            "3. Delete Student\n",
            "4. View Class Performance\n",
            "5. Visualize Data\n",
            "6. Search and Filter\n",
            "7. Save Data\n",
            "8. Exit\n",
            "Enter your choice: 3\n",
            "Enter student ID to delete: ST-002\n",
            "\n",
            "Student Grading System\n",
            "1. Add Student\n",
            "2. Update Student\n",
            "3. Delete Student\n",
            "4. View Class Performance\n",
            "5. Visualize Data\n",
            "6. Search and Filter\n",
            "7. Save Data\n",
            "8. Exit\n",
            "Enter your choice: 4\n",
            "Average Marks: Math       87.6\n",
            "English    88.6\n",
            "Science    88.0\n",
            "dtype: float64\n",
            "Top Scorer: ID             4\n",
            "Name       David\n",
            "Math          95\n",
            "English       82\n",
            "Science       90\n",
            "Grade           \n",
            "Name: 3, dtype: object\n",
            "Bottom Scorer: ID               3\n",
            "Name       Charlie\n",
            "Math            78\n",
            "English         93\n",
            "Science         85\n",
            "Grade             \n",
            "Name: 2, dtype: object\n",
            "Pass Percentage: 100.0\n",
            "\n",
            "Student Grading System\n",
            "1. Add Student\n",
            "2. Update Student\n",
            "3. Delete Student\n",
            "4. View Class Performance\n",
            "5. Visualize Data\n",
            "6. Search and Filter\n",
            "7. Save Data\n",
            "8. Exit\n",
            "Enter your choice: 5\n"
          ]
        },
        {
          "output_type": "display_data",
          "data": {
            "text/plain": [
              "<Figure size 640x480 with 1 Axes>"
            ],
            "image/png": "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\n"
          },
          "metadata": {}
        },
        {
          "name": "stdout",
          "output_type": "stream",
          "text": [
            "\n",
            "Student Grading System\n",
            "1. Add Student\n",
            "2. Update Student\n",
            "3. Delete Student\n",
            "4. View Class Performance\n",
            "5. Visualize Data\n",
            "6. Search and Filter\n",
            "7. Save Data\n",
            "8. Exit\n",
            "Enter your choice: 6\n",
            "Enter student ID or name to search: ST-004\n",
            "Empty DataFrame\n",
            "Columns: [ID, Name, Math, English, Science, Grade]\n",
            "Index: []\n",
            "\n",
            "Student Grading System\n",
            "1. Add Student\n",
            "2. Update Student\n",
            "3. Delete Student\n",
            "4. View Class Performance\n",
            "5. Visualize Data\n",
            "6. Search and Filter\n",
            "7. Save Data\n",
            "8. Exit\n",
            "Enter your choice: 8\n"
          ]
        }
      ]
    }
  ]
}
